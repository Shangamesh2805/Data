{
 "cells": [
  {
   "cell_type": "code",
   "execution_count": 3,
   "id": "c6610657-78a6-4634-a0bf-0ca949b49990",
   "metadata": {},
   "outputs": [],
   "source": [
    "from pyspark.sql import SparkSession\n",
    "from pyspark.sql.functions import col, lower, max as spark_max, min as spark_min, month, date_format, desc\n",
    "\n",
    "\n"
   ]
  },
  {
   "cell_type": "code",
   "execution_count": 5,
   "id": "5944b7e9-cf3c-4e48-8eec-c256ef48a72e",
   "metadata": {},
   "outputs": [],
   "source": [
    "spark = SparkSession.builder.master(\"local[*]\").appName(\"CovidDataAnalysis\").getOrCreate()\n"
   ]
  },
  {
   "cell_type": "code",
   "execution_count": 23,
   "id": "8fe07c01-2562-4f27-905d-5482d58d0b1b",
   "metadata": {},
   "outputs": [
    {
     "name": "stdout",
     "output_type": "stream",
     "text": [
      "+----------+------------------+--------+---------+---------------------+-----+-------------------------+---------+----------+-------------+\n",
      "|      Date|Name of State / UT|Latitude|Longitude|Total Confirmed cases|Death|Cured/Discharged/Migrated|New cases|New deaths|New recovered|\n",
      "+----------+------------------+--------+---------+---------------------+-----+-------------------------+---------+----------+-------------+\n",
      "|2020-01-30|            Kerala| 10.8505|  76.2711|                  1.0|    0|                      0.0|        0|         0|            0|\n",
      "|2020-01-31|            Kerala| 10.8505|  76.2711|                  1.0|    0|                      0.0|        0|         0|            0|\n",
      "|2020-02-01|            Kerala| 10.8505|  76.2711|                  2.0|    0|                      0.0|        1|         0|            0|\n",
      "|2020-02-02|            Kerala| 10.8505|  76.2711|                  3.0|    0|                      0.0|        1|         0|            0|\n",
      "|2020-02-03|            Kerala| 10.8505|  76.2711|                  3.0|    0|                      0.0|        0|         0|            0|\n",
      "|2020-02-04|            Kerala| 10.8505|  76.2711|                  3.0|    0|                      0.0|        0|         0|            0|\n",
      "|2020-02-05|            Kerala| 10.8505|  76.2711|                  3.0|    0|                      0.0|        0|         0|            0|\n",
      "|2020-02-06|            Kerala| 10.8505|  76.2711|                  3.0|    0|                      0.0|        0|         0|            0|\n",
      "|2020-02-07|            Kerala| 10.8505|  76.2711|                  3.0|    0|                      0.0|        0|         0|            0|\n",
      "|2020-02-08|            Kerala| 10.8505|  76.2711|                  3.0|    0|                      0.0|        0|         0|            0|\n",
      "|2020-02-09|            Kerala| 10.8505|  76.2711|                  3.0|    0|                      0.0|        0|         0|            0|\n",
      "|2020-02-10|            Kerala| 10.8505|  76.2711|                  3.0|    0|                      0.0|        0|         0|            0|\n",
      "|2020-02-11|            Kerala| 10.8505|  76.2711|                  3.0|    0|                      0.0|        0|         0|            0|\n",
      "|2020-02-12|            Kerala| 10.8505|  76.2711|                  3.0|    0|                      0.0|        0|         0|            0|\n",
      "|2020-02-13|            Kerala| 10.8505|  76.2711|                  3.0|    0|                      0.0|        0|         0|            0|\n",
      "|2020-02-14|            Kerala| 10.8505|  76.2711|                  3.0|    0|                      0.0|        0|         0|            0|\n",
      "|2020-02-15|            Kerala| 10.8505|  76.2711|                  3.0|    0|                      0.0|        0|         0|            0|\n",
      "|2020-02-16|            Kerala| 10.8505|  76.2711|                  3.0|    0|                      0.0|        0|         0|            0|\n",
      "|2020-02-17|            Kerala| 10.8505|  76.2711|                  3.0|    0|                      0.0|        0|         0|            0|\n",
      "|2020-02-18|            Kerala| 10.8505|  76.2711|                  3.0|    0|                      0.0|        0|         0|            0|\n",
      "+----------+------------------+--------+---------+---------------------+-----+-------------------------+---------+----------+-------------+\n",
      "only showing top 20 rows\n",
      "\n"
     ]
    }
   ],
   "source": [
    "df = spark.read.csv(\"D:/Dataset/covid.csv\", header=True, inferSchema=True)\n",
    "df.show()"
   ]
  },
  {
   "cell_type": "raw",
   "id": "54177b90-b56f-40f4-b0b9-0a8e2e5c5d68",
   "metadata": {},
   "source": [
    "##Convert state names to lowercase"
   ]
  },
  {
   "cell_type": "code",
   "execution_count": 7,
   "id": "910f4dee-043a-44dc-8f8c-4d305098eac4",
   "metadata": {},
   "outputs": [],
   "source": [
    "df = df.withColumn(\"Name of State / UT\", lower(col(\"Name of State / UT\")))"
   ]
  },
  {
   "cell_type": "code",
   "execution_count": 25,
   "id": "e2e7549d-bdcf-4ac7-bd9f-989a570304f6",
   "metadata": {},
   "outputs": [
    {
     "name": "stdout",
     "output_type": "stream",
     "text": [
      "+----------+------------------+--------+---------+---------------------+-----+-------------------------+---------+----------+-------------+\n",
      "|      Date|Name of State / UT|Latitude|Longitude|Total Confirmed cases|Death|Cured/Discharged/Migrated|New cases|New deaths|New recovered|\n",
      "+----------+------------------+--------+---------+---------------------+-----+-------------------------+---------+----------+-------------+\n",
      "|2020-01-30|            Kerala| 10.8505|  76.2711|                  1.0|    0|                      0.0|        0|         0|            0|\n",
      "|2020-01-31|            Kerala| 10.8505|  76.2711|                  1.0|    0|                      0.0|        0|         0|            0|\n",
      "|2020-02-01|            Kerala| 10.8505|  76.2711|                  2.0|    0|                      0.0|        1|         0|            0|\n",
      "|2020-02-02|            Kerala| 10.8505|  76.2711|                  3.0|    0|                      0.0|        1|         0|            0|\n",
      "|2020-02-03|            Kerala| 10.8505|  76.2711|                  3.0|    0|                      0.0|        0|         0|            0|\n",
      "|2020-02-04|            Kerala| 10.8505|  76.2711|                  3.0|    0|                      0.0|        0|         0|            0|\n",
      "|2020-02-05|            Kerala| 10.8505|  76.2711|                  3.0|    0|                      0.0|        0|         0|            0|\n",
      "|2020-02-06|            Kerala| 10.8505|  76.2711|                  3.0|    0|                      0.0|        0|         0|            0|\n",
      "|2020-02-07|            Kerala| 10.8505|  76.2711|                  3.0|    0|                      0.0|        0|         0|            0|\n",
      "|2020-02-08|            Kerala| 10.8505|  76.2711|                  3.0|    0|                      0.0|        0|         0|            0|\n",
      "|2020-02-09|            Kerala| 10.8505|  76.2711|                  3.0|    0|                      0.0|        0|         0|            0|\n",
      "|2020-02-10|            Kerala| 10.8505|  76.2711|                  3.0|    0|                      0.0|        0|         0|            0|\n",
      "|2020-02-11|            Kerala| 10.8505|  76.2711|                  3.0|    0|                      0.0|        0|         0|            0|\n",
      "|2020-02-12|            Kerala| 10.8505|  76.2711|                  3.0|    0|                      0.0|        0|         0|            0|\n",
      "|2020-02-13|            Kerala| 10.8505|  76.2711|                  3.0|    0|                      0.0|        0|         0|            0|\n",
      "|2020-02-14|            Kerala| 10.8505|  76.2711|                  3.0|    0|                      0.0|        0|         0|            0|\n",
      "|2020-02-15|            Kerala| 10.8505|  76.2711|                  3.0|    0|                      0.0|        0|         0|            0|\n",
      "|2020-02-16|            Kerala| 10.8505|  76.2711|                  3.0|    0|                      0.0|        0|         0|            0|\n",
      "|2020-02-17|            Kerala| 10.8505|  76.2711|                  3.0|    0|                      0.0|        0|         0|            0|\n",
      "|2020-02-18|            Kerala| 10.8505|  76.2711|                  3.0|    0|                      0.0|        0|         0|            0|\n",
      "+----------+------------------+--------+---------+---------------------+-----+-------------------------+---------+----------+-------------+\n",
      "only showing top 20 rows\n",
      "\n"
     ]
    }
   ],
   "source": [
    "df.show()"
   ]
  },
  {
   "cell_type": "markdown",
   "id": "62409c8a-68ff-486b-9b5d-5714f4e72d57",
   "metadata": {},
   "source": [
    "Day with the Greatest Number of COVID Cases"
   ]
  },
  {
   "cell_type": "code",
   "execution_count": 9,
   "id": "a4c93f5f-8f97-440c-812b-b1ae78782af9",
   "metadata": {},
   "outputs": [
    {
     "name": "stdout",
     "output_type": "stream",
     "text": [
      "Day with the greatest number of COVID cases: 2020-08-06 with 468265.0 cases\n"
     ]
    }
   ],
   "source": [
    "\n",
    "day_greatest_cases = df.orderBy(desc(\"Total Confirmed cases\")).select(\"Date\", \"Total Confirmed cases\").first()\n",
    "\n",
    "print(f\"Day with the greatest number of COVID cases: {day_greatest_cases['Date']} with {day_greatest_cases['Total Confirmed cases']} cases\")\n"
   ]
  },
  {
   "cell_type": "markdown",
   "id": "579ab231-13f6-4909-92a4-c0270799d616",
   "metadata": {},
   "source": []
  },
  {
   "cell_type": "code",
   "execution_count": 15,
   "id": "6e854a05-06ac-4a95-b8c6-60e4e2363dec",
   "metadata": {},
   "outputs": [
    {
     "name": "stdout",
     "output_type": "stream",
     "text": [
      "State with the second largest number of COVID cases: tamil nadu with 273460.0 cases\n"
     ]
    }
   ],
   "source": [
    "\n",
    "state_cases = df.groupBy(\"Name of State / UT\").agg(spark_max(\"Total Confirmed cases\").alias(\"TotalCases\"))\n",
    "second_largest_state = state_cases.orderBy(desc(\"TotalCases\")).take(2)[1]\n",
    "\n",
    "print(f\"State with the second largest number of COVID cases: {second_largest_state['Name of State / UT']} with {second_largest_state['TotalCases']} cases\")\n"
   ]
  },
  {
   "cell_type": "markdown",
   "id": "d2dab7d4-22d1-4675-9afa-2ba531b616fb",
   "metadata": {},
   "source": [
    "the state/UT with the lowest ratio"
   ]
  },
  {
   "cell_type": "code",
   "execution_count": 17,
   "id": "4154600b-73b6-459b-821a-76ae332ed092",
   "metadata": {},
   "outputs": [
    {
     "name": "stdout",
     "output_type": "stream",
     "text": [
      "State/UT with the lowest Death to Confirmed Cases ratio: puducherry with a ratio of None\n"
     ]
    }
   ],
   "source": [
    "\n",
    "df = df.withColumn(\"DeathToCaseRatio\", col(\"Death\") / col(\"Total Confirmed cases\"))\n",
    "state_lowest_ratio = df.orderBy(\"DeathToCaseRatio\").select(\"Name of State / UT\", \"DeathToCaseRatio\").first()\n",
    "\n",
    "print(f\"State/UT with the lowest Death to Confirmed Cases ratio: {state_lowest_ratio['Name of State / UT']} with a ratio of {state_lowest_ratio['DeathToCaseRatio']}\")\n"
   ]
  },
  {
   "cell_type": "markdown",
   "id": "32b44d30-c2c1-49d3-b09f-9f75dce0d44f",
   "metadata": {},
   "source": [
    "Month with the Most Newer Recovered Cases"
   ]
  },
  {
   "cell_type": "code",
   "execution_count": 21,
   "id": "4c781647-a58a-4dcb-996e-1a9100c11f1a",
   "metadata": {},
   "outputs": [
    {
     "name": "stdout",
     "output_type": "stream",
     "text": [
      "Month with the most newer recovered cases: July with 13401 recovered cases\n"
     ]
    }
   ],
   "source": [
    "df = df.withColumn(\"Month\", date_format(col(\"Date\"), \"MM\"))\n",
    "month_recovered = df.groupBy(\"Month\").agg(spark_max(\"New recovered\").alias(\"Total Recovered\"))\n",
    "\n",
    "# Find the month with the maximum recovered cases\n",
    "max_recovered_month = month_recovered.orderBy(desc(\"Total Recovered\")).first()\n",
    "\n",
    "# Convert the month number to the month name\n",
    "import calendar\n",
    "month_name = calendar.month_name[int(max_recovered_month['Month'])]\n",
    "\n",
    "print(f\"Month with the most newer recovered cases: {month_name} with {max_recovered_month['Total Recovered']} recovered cases\")"
   ]
  },
  {
   "cell_type": "code",
   "execution_count": null,
   "id": "533efb28-b587-4411-a663-111e999d07fa",
   "metadata": {},
   "outputs": [],
   "source": []
  }
 ],
 "metadata": {
  "kernelspec": {
   "display_name": "Python 3 (ipykernel)",
   "language": "python",
   "name": "python3"
  },
  "language_info": {
   "codemirror_mode": {
    "name": "ipython",
    "version": 3
   },
   "file_extension": ".py",
   "mimetype": "text/x-python",
   "name": "python",
   "nbconvert_exporter": "python",
   "pygments_lexer": "ipython3",
   "version": "3.12.3"
  }
 },
 "nbformat": 4,
 "nbformat_minor": 5
}
